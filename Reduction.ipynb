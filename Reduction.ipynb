{
 "cells": [
  {
   "cell_type": "markdown",
   "metadata": {},
   "source": [
    "### Sort Filters"
   ]
  },
  {
   "cell_type": "code",
   "execution_count": 1,
   "metadata": {
    "collapsed": false
   },
   "outputs": [],
   "source": [
    "import glob \n",
    "import astropy.io.fits as pf\n",
    "import numpy as np\n",
    "\n",
    "# Sort flats into filters\n",
    "Flat = glob.glob(\"C:/Users/dirmu/Documents/fieldtrip/IAC80/17mar20/Flat/*.fits\")\n",
    "Bias = glob.glob(\"C:/Users/dirmu/Documents/fieldtrip/IAC80/17mar20/Bias/*.fits\")\n",
    "O45P = glob.glob(\"C:/Users/dirmu/Documents/fieldtrip/IAC80/17mar20/45P/*.fits\")\n",
    "O71P = glob.glob(\"C:/Users/dirmu/Documents/fieldtrip/IAC80/17mar20/71P/*.fits\")\n",
    "\n",
    "V_f = []\n",
    "R_f = []\n",
    "I_f = []\n",
    "\n",
    "for name in Flat:\n",
    "    O = pf.open(name)\n",
    "    H = O[0].header\n",
    "#     if H[\"SPEED\"] == 500:\n",
    "    if H[\"INSFILTE\"] == \"V\":\n",
    "        V_f.append(name)\n",
    "    elif H[\"INSFILTE\"] == \"R\":\n",
    "        R_f.append(name)\n",
    "    elif H[\"INSFILTE\"] == \"I\":\n",
    "        I_f.append(name)\n",
    "    else:\n",
    "        pass\n",
    "# else:\n",
    "#     pass\n",
    "    \n",
    "# Sort objects into filters\n",
    "V_o = []\n",
    "R_o = []\n",
    "I_o = []\n",
    "\n",
    "for name in O71P:\n",
    "    O = pf.open(name)\n",
    "    H = O[0].header\n",
    "    if H[\"INSFILTE\"] == \"V\":\n",
    "        V_o.append(name)\n",
    "    elif H[\"INSFILTE\"] == \"R\":\n",
    "        R_o.append(name)\n",
    "    elif H[\"INSFILTE\"] == \"I\":\n",
    "        I_o.append(name)\n",
    "    else:\n",
    "        pass\n",
    "\n",
    "# myBias = []\n",
    "# # Sort Bias, only take 500Hz\n",
    "# for name in Bias:\n",
    "#     O = pf.open(name)\n",
    "#     H = O[0].header\n",
    "#     if H[\"SPEED\"] == 500:\n",
    "#         myBias.append(name)\n",
    "#     else:\n",
    "#         pass"
   ]
  },
  {
   "cell_type": "markdown",
   "metadata": {},
   "source": [
    "### Mean Combine Flats and Bias'"
   ]
  },
  {
   "cell_type": "code",
   "execution_count": 2,
   "metadata": {
    "collapsed": false
   },
   "outputs": [],
   "source": [
    "def mcomb(file_loc,file_type):\n",
    "    file = file_loc\n",
    "    # Empty list for storing trimmed flats\n",
    "    A = []\n",
    "    for name in file:\n",
    "        # Open file\n",
    "        O = pf.open(name)\n",
    "        # Acess image data\n",
    "        D = O[0].data\n",
    "        # Trim\n",
    "        D = D[0:2048,50:2098]\n",
    "        A.append(D)\n",
    "        \n",
    "    medflat = np.median(A, axis=0)\n",
    "    if \"flat\" in file_type:\n",
    "        masterflat = medflat/np.mean(A)\n",
    "        hdu = pf.PrimaryHDU(masterflat)\n",
    "    else:\n",
    "        hdu = pf.PrimaryHDU(medflat)\n",
    "    hdu.writeto('medcomb'+file_type+'.fits')\n",
    "    \n",
    "mcomb(V_f,'flat_v')\n",
    "mcomb(R_f,'flat_r')\n",
    "mcomb(I_f,'flat_i')\n",
    "\n",
    "\n",
    "mcomb(Bias,'bias')"
   ]
  },
  {
   "cell_type": "code",
   "execution_count": 3,
   "metadata": {
    "collapsed": false
   },
   "outputs": [],
   "source": [
    "def reduce(obj_loc,filte):\n",
    "    # List of object files\n",
    "    file = obj_loc\n",
    "    flat = pf.open(\"medcombflat_\"+filte+\".fits\")\n",
    "    flat_d = flat[0].data\n",
    "    bias = pf.open(\"medcombbias.fits\")\n",
    "    bias_d = bias[0].data\n",
    "    for name in file:\n",
    "        ob = pf.open(name)\n",
    "        ob_d = ob[0].data\n",
    "        ob_h = ob[0].header\n",
    "        \n",
    "        # Trim\n",
    "        ob_d = ob_d[0:2048,50:2098]\n",
    "        del(ob_h[\"camtemp\"])\n",
    "        del(ob_h[\"pressure\"])\n",
    "        \n",
    "        # Reduce image\n",
    "        # And save as 8Mb\n",
    "        flat_d = flat_d - bias_d\n",
    "        ob_d = (ob_d - bias_d)/flat_d\n",
    "        ob_d = np.array(ob_d,dtype=np.int16)\n",
    "        ob_d = abs(ob_d)\n",
    "        # Take filepath string for filename\n",
    "        # This will need to be altered\n",
    "        file_name = name[-17:]\n",
    "        hdu = pf.PrimaryHDU(ob_d,ob_h)\n",
    "        hdu.writeto(\"red_\"+file_name)\n",
    "        \n",
    "reduce(V_o,\"v\")\n",
    "reduce(R_o,\"r\")\n",
    "reduce(I_o,\"i\")"
   ]
  }
 ],
 "metadata": {
  "anaconda-cloud": {},
  "kernelspec": {
   "display_name": "Python [default]",
   "language": "python",
   "name": "python3"
  },
  "language_info": {
   "codemirror_mode": {
    "name": "ipython",
    "version": 3
   },
   "file_extension": ".py",
   "mimetype": "text/x-python",
   "name": "python",
   "nbconvert_exporter": "python",
   "pygments_lexer": "ipython3",
   "version": "3.5.2"
  }
 },
 "nbformat": 4,
 "nbformat_minor": 1
}
