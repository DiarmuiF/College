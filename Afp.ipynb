{
 "cells": [
  {
   "cell_type": "markdown",
   "metadata": {},
   "source": [
    "# Af$\\rho = \\frac{4\\Delta^2 r^2 I_d}{\\rho I_s}$"
   ]
  },
  {
   "cell_type": "code",
   "execution_count": 5,
   "metadata": {},
   "outputs": [
    {
     "name": "stdout",
     "output_type": "stream",
     "text": [
      "Aperture size for max S/N = 18\n",
      "Dust flux through 18 aperture = 11809\n",
      "Size of aperture at comet = 5439532.07852 m\n",
      "Afp is = 5.71758906754e+31\n"
     ]
    }
   ],
   "source": [
    "## Afp\n",
    "\n",
    "import numpy as np\n",
    "import astropy.io.fits as pf\n",
    "import photutils as phot\n",
    "import matplotlib.pyplot as plt\n",
    "import glob\n",
    "%matplotlib inline\n",
    "\n",
    "# From MPC Ephemeris\n",
    "# Delta (Geocentric distance) (AU)\n",
    "# Needs to be converted to m\n",
    "Delta = 0.5\n",
    "\n",
    "# r (Heliocentric distance) (AU)\n",
    "r = 1.4585\n",
    "\n",
    "# Solar Intensity at 1AU (W m-2 Hz-1)\n",
    "# V\n",
    "I_vs = 1.8076e-12\n",
    "# R\n",
    "I_rs = 2.1308e-12\n",
    "# I\n",
    "I_is = 2.4174e-12\n",
    "\n",
    "# Convert AU to m\n",
    "def AUm(AU):\n",
    "    return AU*149597870700\n",
    "\n",
    "Delta = AUm(Delta)\n",
    "\n",
    "# Aperture Photometry\n",
    "\n",
    "# Load file\n",
    "im_loc = glob.glob(\"C:/Users/dirmu/Documents/fieldtrip/AllSpeed_45P/red_O170320_0060.fits\")\n",
    "image1 = pf.getdata(im_loc[0])\n",
    "\n",
    "# Define centre of aperture\n",
    "position = [(947.59333,1015.8933)]\n",
    "\n",
    "SNR_arr = []\n",
    "\n",
    "rad = range(1,20,1)\n",
    "\n",
    "# Loop to find peak SNR\n",
    "for r_i in rad:\n",
    "    # Define aperture\n",
    "    aperture_ob = phot.CircularAperture(position, r=r_i)\n",
    "\n",
    "    # Donut aperture for background subtraction\n",
    "    aperture_bkg = phot.CircularAperture(position, r=30)\n",
    "\n",
    "    apers = [aperture_ob, aperture_bkg]\n",
    "\n",
    "    # Flux information\n",
    "    phot_table = phot.aperture_photometry(image1,apers)\n",
    "\n",
    "    bkg_mean = phot_table['aperture_sum_1']/aperture_bkg.area()\n",
    "\n",
    "    bkg_sum = bkg_mean*aperture_ob.area()\n",
    "    final_sum = phot_table['aperture_sum_0'] - bkg_sum\n",
    "    phot_table['residual_aperture_sum'] = final_sum\n",
    "    SNR = (final_sum)**1/2\n",
    "    SNR_arr.append(final_sum)\n",
    "\n",
    "max_SNR = max(SNR_arr)\n",
    "aper_size = rad[SNR_arr.index(max_SNR)]\n",
    "print(\"Aperture size for max S/N =\",aper_size)\n",
    "# print(phot_table)\n",
    "\n",
    "I_dust_ap = phot.CircularAperture(position, aper_size)\n",
    "I_dust = phot.aperture_photometry(image1, I_dust_ap)\n",
    "print(\"Dust flux through {} aperture = {}\".format(aper_size,int(I_dust['aperture_sum'])))\n",
    "I_d = int(I_dust['aperture_sum'])\n",
    "\n",
    "# Size of aperture at comet\n",
    "\n",
    "# Field is 10'\n",
    "# Which is 2048 pixels\n",
    "# 1 pixel = 10/2048  = 0.3''/pixel\n",
    "# Size of pixel at distance d\n",
    "d = Delta\n",
    "rho = d*np.tan((0.3/3600)*(np.pi/180))/2\n",
    "# Convert to cm\n",
    "rho = rho*100\n",
    "print(\"Size of aperture at comet =\",rho,\"m\")\n",
    "\n",
    "\n",
    "Afp = (4*(Delta**2)*(r**2)*I_d)/(I_vs*rho)\n",
    "print(\"Afp is =\",Afp)"
   ]
  },
  {
   "cell_type": "code",
   "execution_count": 6,
   "metadata": {},
   "outputs": [
    {
     "name": "stdout",
     "output_type": "stream",
     "text": [
      "5439532.07852\n"
     ]
    }
   ],
   "source": [
    "print(rho)"
   ]
  },
  {
   "cell_type": "code",
   "execution_count": 25,
   "metadata": {},
   "outputs": [
    {
     "name": "stdout",
     "output_type": "stream",
     "text": [
      "54395.3207852\n"
     ]
    }
   ],
   "source": [
    "# Size of aperture at comet\n",
    "\n",
    "# Field is 10'\n",
    "# Which is 2048 pixels\n",
    "# 1 pixel = 10/2048  = 0.3''/pixel\n",
    "# Size of pixel at distance d\n",
    "d = Delta\n",
    "size = d*np.tan((0.3/3600)*(np.pi/180))/2\n",
    "print(size)"
   ]
  }
 ],
 "metadata": {
  "anaconda-cloud": {},
  "kernelspec": {
   "display_name": "Python 3",
   "language": "python",
   "name": "python3"
  },
  "language_info": {
   "codemirror_mode": {
    "name": "ipython",
    "version": 3
   },
   "file_extension": ".py",
   "mimetype": "text/x-python",
   "name": "python",
   "nbconvert_exporter": "python",
   "pygments_lexer": "ipython3",
   "version": "3.6.4"
  }
 },
 "nbformat": 4,
 "nbformat_minor": 1
}
