{
 "cells": [
  {
   "cell_type": "markdown",
   "metadata": {},
   "source": [
    "## COMP41680 Assignment 2\n",
    "## Diarmuid Finnan - 13362201"
   ]
  },
  {
   "cell_type": "code",
   "execution_count": 1,
   "metadata": {
    "collapsed": true
   },
   "outputs": [],
   "source": [
    "import bs4\n",
    "import requests\n",
    "import numpy as np\n",
    "import pandas as pd\n",
    "import matplotlib.pyplot as plt\n",
    "%matplotlib inline"
   ]
  },
  {
   "cell_type": "markdown",
   "metadata": {},
   "source": [
    "### Data retrieval function\n",
    "\n",
    "Opens input link and returns parsed html"
   ]
  },
  {
   "cell_type": "code",
   "execution_count": 2,
   "metadata": {
    "collapsed": true
   },
   "outputs": [],
   "source": [
    "# The base link\n",
    "master_link = \"http://mlg.ucd.ie/modules/COMP41680/archive/\"\n",
    "link_INDEX = master_link+\"index.html\"\n",
    "\n",
    "# Function to open input link and parse html\n",
    "def openlink(link):\n",
    "    try:\n",
    "        response = requests.get(link)\n",
    "\n",
    "    except response.status_code as e:\n",
    "        print(e.reason)\n",
    "        print(\"Error getting data from URL. Check link\")\n",
    "\n",
    "    else:\n",
    "        html = response.text\n",
    "        return html\n",
    "    \n",
    "#openlink(link_INDEX)"
   ]
  },
  {
   "cell_type": "markdown",
   "metadata": {},
   "source": [
    "### \"Homepage\"\n",
    "\n",
    "Get html and save links to month pages"
   ]
  },
  {
   "cell_type": "code",
   "execution_count": 3,
   "metadata": {
    "collapsed": true
   },
   "outputs": [],
   "source": [
    "index = openlink(link_INDEX)\n",
    "\n",
    "# Parse index page to access tags\n",
    "index_par = bs4.BeautifulSoup(index,\"html.parser\")\n",
    "month_link_arr = []\n",
    "\n",
    "# Only search the main to not get other links in page\n",
    "index_par_m = index_par.find(\"div\",class_=\"main\")\n",
    "\n",
    "# Get links to Month pages\n",
    "for link in index_par_m.find_all('a'):\n",
    "    month_link = link.get('href')\n",
    "    month_link_arr.append(month_link)"
   ]
  },
  {
   "cell_type": "markdown",
   "metadata": {},
   "source": [
    "### Article and Category retrieval\n",
    "\n",
    "Open month links, save article category label and article link\n",
    "\n",
    "Then open article and save only the article body text"
   ]
  },
  {
   "cell_type": "code",
   "execution_count": 4,
   "metadata": {},
   "outputs": [],
   "source": [
    "# Cycle through months\n",
    "\n",
    "article_cat = []\n",
    "article_title = []\n",
    "\n",
    "error_counter = 0\n",
    "\n",
    "for i in range(len(month_link_arr)):\n",
    "    try:\n",
    "    \n",
    "        month_page = openlink(master_link+month_link_arr[i])\n",
    "\n",
    "        # Parse month page \n",
    "        month_par = bs4.BeautifulSoup(month_page,\"html.parser\")\n",
    "        # Only search the main to not get other links in page\n",
    "        month_par_m = month_par.find(\"div\",class_=\"main\")\n",
    "\n",
    "        article_link_arr = []\n",
    "\n",
    "        # Get document tags, article titles and links\n",
    "        # Get article category, save to array\n",
    "        for link in month_par_m.findAll(\"td\",class_=\"category\"):\n",
    "            text = link.get_text()\n",
    "            article_cat.append(text)\n",
    "\n",
    "        # Get article link\n",
    "        for link in month_par_m.findAll('a'):\n",
    "            article_link = link.get('href')\n",
    "            article_link_arr.append(article_link)\n",
    "\n",
    "            \n",
    "        for j in range(len(article_link_arr)):\n",
    "            article = openlink(master_link+article_link_arr[j])\n",
    "            article_par = bs4.BeautifulSoup(article,\"html.parser\")\n",
    "            # Only search the main to not get other links in page\n",
    "            article_par_m = article_par.find(\"div\",class_=\"main\")\n",
    "\n",
    "            the_text = []\n",
    "            \n",
    "            # Get article content\n",
    "            # specify class_=None to remove text footer\n",
    "            for elem in article_par_m.findAll(\"p\",class_=None):\n",
    "                text = elem.get_text()\n",
    "                the_text.append(text)\n",
    "            \n",
    "            # Remove empty lines\n",
    "            the_text_check = str(\" \").join(list(filter(None,the_text)))\n",
    "\n",
    "            # Save articles\n",
    "            f = open(\"New_Articles/\"+str(i+1)+\"_\"+str(j+1)+\".txt\",'w',encoding=\"utf-8\")\n",
    "            f.write(the_text_check)\n",
    "            f.close()\n",
    "            \n",
    "    except Exception as e:\n",
    "        print(e)\n",
    "        \n",
    "        error_counter += 1\n",
    "        continue"
   ]
  },
  {
   "cell_type": "markdown",
   "metadata": {},
   "source": [
    "### Remove blank entries and save articles in text file\n",
    "\n",
    "The loop above only searched for entries with links so there are no blank article entries.\n",
    "\n",
    "The save loop below checks if the category is N/A doesn't save those that are"
   ]
  },
  {
   "cell_type": "code",
   "execution_count": 7,
   "metadata": {},
   "outputs": [],
   "source": [
    "# freeze this to call it later in the notebook\n",
    "cat_filename = \"Categories.txt\"\n",
    "counter = 0 \n",
    "\n",
    "f = open(cat_filename,'w')\n",
    "for val in article_cat:\n",
    "    # Remove thing at start\n",
    "    just_cat = val[1:]\n",
    "    if just_cat != \"N/A\":\n",
    "        counter += 1\n",
    "        f.write(val+\"\\n\")\n",
    "f.close()"
   ]
  },
  {
   "cell_type": "markdown",
   "metadata": {},
   "source": [
    "#### A check for errors in retrieving data\n"
   ]
  },
  {
   "cell_type": "code",
   "execution_count": 9,
   "metadata": {},
   "outputs": [
    {
     "name": "stdout",
     "output_type": "stream",
     "text": [
      "Categories: 1408\n",
      "0\n"
     ]
    }
   ],
   "source": [
    "print(\"Categories:\",counter)\n",
    "print(error_counter)"
   ]
  },
  {
   "cell_type": "markdown",
   "metadata": {},
   "source": [
    "### Open saved article files\n",
    "\n",
    "Cycles through filenames openning and saving content\n",
    "\n",
    "It will open the file \"i_j.txt\" and then try i_j+1.txt\"\n",
    "\n",
    "When this fails (it has reached the highest j in i = last article in the month), it will move onto the next month (i + 1)\n",
    "\n",
    "(Would much prefer to use glob library for accessing files)"
   ]
  },
  {
   "cell_type": "code",
   "execution_count": 10,
   "metadata": {},
   "outputs": [
    {
     "name": "stdout",
     "output_type": "stream",
     "text": [
      "Well something happened 1 119\n",
      "[Errno 2] No such file or directory: 'New_Articles/1_119.txt'\n",
      "Well something happened 2 123\n",
      "[Errno 2] No such file or directory: 'New_Articles/2_123.txt'\n",
      "Well something happened 3 117\n",
      "[Errno 2] No such file or directory: 'New_Articles/3_117.txt'\n",
      "Well something happened 4 118\n",
      "[Errno 2] No such file or directory: 'New_Articles/4_118.txt'\n",
      "Well something happened 5 115\n",
      "[Errno 2] No such file or directory: 'New_Articles/5_115.txt'\n",
      "Well something happened 6 115\n",
      "[Errno 2] No such file or directory: 'New_Articles/6_115.txt'\n",
      "Well something happened 7 123\n",
      "[Errno 2] No such file or directory: 'New_Articles/7_123.txt'\n",
      "Well something happened 8 117\n",
      "[Errno 2] No such file or directory: 'New_Articles/8_117.txt'\n",
      "Well something happened 9 113\n",
      "[Errno 2] No such file or directory: 'New_Articles/9_113.txt'\n",
      "Well something happened 10 123\n",
      "[Errno 2] No such file or directory: 'New_Articles/10_123.txt'\n",
      "Well something happened 11 122\n",
      "[Errno 2] No such file or directory: 'New_Articles/11_122.txt'\n",
      "Well something happened 12 115\n",
      "[Errno 2] No such file or directory: 'New_Articles/12_115.txt'\n",
      "Out of months!\n"
     ]
    }
   ],
   "source": [
    "# The files start at 1_1\n",
    "i = 1\n",
    "j = 1\n",
    "\n",
    "\n",
    "article_arr = []\n",
    "\n",
    "# There is no more than 130 articles in any month \n",
    "while j < 130:\n",
    "    try:\n",
    "        article = open(\"New_Articles/\"+str(i)+\"_\"+str(j)+\".txt\",'r',encoding=\"utf8\")\n",
    "        thetext = article.read()\n",
    "        \n",
    "        article_arr.append(thetext)\n",
    "        j += 1\n",
    "         \n",
    "\n",
    "    except Exception as e:\n",
    "        # Check how far the loop got\n",
    "        print(\"Well something happened\",i,j)\n",
    "        print(e)\n",
    "        try:\n",
    "            # Error could mean it got to the end of the month\n",
    "            # Increment i and restart j\n",
    "            i += 1\n",
    "            j = 1\n",
    "            # After 12 its done\n",
    "            if i == 13:\n",
    "                print(\"Out of months!\")\n",
    "                break\n",
    "            \n",
    "        # If there's an actual error          \n",
    "        except Exception as e:\n",
    "            print(\"Something Else\")\n",
    "            print(e)\n",
    "            break"
   ]
  },
  {
   "cell_type": "markdown",
   "metadata": {},
   "source": [
    "### Open the categories file and save the entries\n"
   ]
  },
  {
   "cell_type": "code",
   "execution_count": 11,
   "metadata": {
    "collapsed": true
   },
   "outputs": [],
   "source": [
    "categories_file = open(cat_filename,'r')\n",
    "categories = categories_file.read().split(\"\\n\")\n",
    "\n",
    "# The final \"\\n\" makes a final blank line\n",
    "# remove this\n",
    "categories = categories[:-1]"
   ]
  },
  {
   "cell_type": "markdown",
   "metadata": {},
   "source": [
    "#### Double check I have the right amount of the articles and categories"
   ]
  },
  {
   "cell_type": "code",
   "execution_count": 12,
   "metadata": {},
   "outputs": [
    {
     "name": "stdout",
     "output_type": "stream",
     "text": [
      "1408\n",
      "1408\n"
     ]
    }
   ],
   "source": [
    "print(len(article_arr))\n",
    "print(len(categories))"
   ]
  },
  {
   "cell_type": "markdown",
   "metadata": {},
   "source": [
    "### Text preprocessing\n"
   ]
  },
  {
   "cell_type": "code",
   "execution_count": 13,
   "metadata": {},
   "outputs": [
    {
     "name": "stdout",
     "output_type": "stream",
     "text": [
      "4958\n"
     ]
    }
   ],
   "source": [
    "from sklearn.feature_extraction.text import CountVectorizer\n",
    "from nltk.stem import WordNetLemmatizer\n",
    "from nltk.stem.porter import PorterStemmer\n",
    "from sklearn.feature_extraction.text import TfidfVectorizer\n",
    "\n",
    "# Maybe change min doc count\n",
    "vectorizer = TfidfVectorizer(stop_words=\"english\",min_df=5)\n",
    "\n",
    "tokenize = CountVectorizer().build_tokenizer()\n",
    "\n",
    "stemmer = PorterStemmer()\n",
    "\n",
    "lemmatizer = WordNetLemmatizer()\n",
    "\n",
    "for i in range(len(article_arr)):\n",
    "    # Tokenize words to process\n",
    "    words = tokenize(article_arr[i])\n",
    "    # Stem contents\n",
    "    words = [w.replace(w,stemmer.stem(w)) for w in words]\n",
    "    # Put words back to be one string\n",
    "    words = \" \".join(words)\n",
    "    # Replace in array\n",
    "    article_arr[i] = words\n",
    "    \n",
    "\n",
    "X = vectorizer.fit_transform(article_arr)\n",
    "\n",
    "terms = vectorizer.get_feature_names()\n",
    "vocab = vectorizer.vocabulary_\n",
    "\n",
    "print(len(terms))"
   ]
  },
  {
   "cell_type": "markdown",
   "metadata": {},
   "source": [
    "#### Add data to pandas Dataframe"
   ]
  },
  {
   "cell_type": "code",
   "execution_count": 14,
   "metadata": {},
   "outputs": [],
   "source": [
    "df = pd.DataFrame({\"Categories\":categories,\"Article\":article_arr})"
   ]
  },
  {
   "cell_type": "markdown",
   "metadata": {},
   "source": [
    "# Classification\n",
    "\n",
    "## KNN\n",
    "\n",
    "This should take in the articles (a list where each entry is an articles as a single string) and the categories. It splits it into data and target, test and training sets. Create a document term matrix of the training data and create a model based on the matrix and the corresponding training targets. It should then create a document term matrix of the test data and use the model created to classify and compare it to the actual category."
   ]
  },
  {
   "cell_type": "code",
   "execution_count": 15,
   "metadata": {},
   "outputs": [
    {
     "name": "stdout",
     "output_type": "stream",
     "text": [
      "Training set has 844 examples\n",
      "Test set has 564 examples\n",
      "KNeighborsClassifier(algorithm='auto', leaf_size=30, metric='minkowski',\n",
      "           metric_params=None, n_jobs=1, n_neighbors=3, p=2,\n",
      "           weights='uniform')\n",
      "Number of sport results = 223\n",
      "Number of business results = 179\n",
      "Number of technology results 162\n"
     ]
    }
   ],
   "source": [
    "from sklearn.model_selection import train_test_split\n",
    "from sklearn.neighbors import KNeighborsClassifier\n",
    "\n",
    "target = np.array(df[\"Categories\"])\n",
    "data = np.array(df[\"Article\"])\n",
    "# target = np.array(categories)\n",
    "# data = np.array(article_arr)\n",
    "\n",
    "data_train, data_test, target_train, target_test = train_test_split(data, target, test_size=0.4)\n",
    "\n",
    "\n",
    "vectorizer = TfidfVectorizer()\n",
    "train_X = vectorizer.fit_transform(data_train)\n",
    "\n",
    "print(\"Training set has %d examples\" % data_train.shape[0])\n",
    "print(\"Test set has %d examples\" % data_test.shape[0])\n",
    "\n",
    "\n",
    "model = KNeighborsClassifier(n_neighbors=3)\n",
    "model.fit(train_X, target_train)\n",
    "print(model)\n",
    "\n",
    "test_X = vectorizer.transform(data_test)\n",
    "\n",
    "predicted = model.predict(test_X)\n",
    "\n",
    "num_sport = (predicted == \"\\xa0sport\").sum()\n",
    "num_bus = (predicted == \"\\xa0business\").sum()\n",
    "num_tech = (predicted == \"\\xa0technology\").sum()\n",
    "print(\"Number of sport results =\",num_sport)\n",
    "print(\"Number of business results =\",num_bus)\n",
    "print(\"Number of technology results\",num_tech)"
   ]
  },
  {
   "cell_type": "code",
   "execution_count": 16,
   "metadata": {},
   "outputs": [
    {
     "name": "stdout",
     "output_type": "stream",
     "text": [
      "Sklearn accuracy score = 0.9592198581560284\n",
      "This is just a sanity check for myself 0.959219858156\n"
     ]
    }
   ],
   "source": [
    "from sklearn.metrics import accuracy_score\n",
    "how_good = accuracy_score(target_test, predicted)\n",
    "print(\"Sklearn accuracy score = {}\".format(how_good))\n",
    "\n",
    "# Which is just\n",
    "total_size = len(predicted)\n",
    "matching = sum(target_test == predicted)\n",
    "print(\"This is just a sanity check for myself\",matching/total_size)"
   ]
  },
  {
   "cell_type": "code",
   "execution_count": 17,
   "metadata": {},
   "outputs": [
    {
     "name": "stdout",
     "output_type": "stream",
     "text": [
      "0.955954588742\n"
     ]
    }
   ],
   "source": [
    "from sklearn.model_selection import cross_val_score\n",
    "\n",
    "cross_val_X = vectorizer.fit_transform(data)\n",
    "\n",
    "scores = cross_val_score(model, cross_val_X, target, cv=5,scoring=\"accuracy\")\n",
    "overall_score = scores.mean()\n",
    "print(overall_score)"
   ]
  },
  {
   "cell_type": "code",
   "execution_count": 18,
   "metadata": {
    "collapsed": true
   },
   "outputs": [],
   "source": [
    "def run_prediction(kvalue):\n",
    "    target = np.array(categories)\n",
    "    data = np.array(article_arr)\n",
    "\n",
    "    data_train, data_test, target_train, target_test = train_test_split(data, target, test_size=0.4)\n",
    "\n",
    "\n",
    "    vectorizer = TfidfVectorizer()\n",
    "    train_X = vectorizer.fit_transform(data_train)\n",
    "\n",
    "    model = KNeighborsClassifier(n_neighbors=kvalue)\n",
    "    model.fit(train_X, target_train)\n",
    "    \n",
    "    cross_val_X = vectorizer.fit_transform(data)\n",
    "\n",
    "    scores = cross_val_score(model, cross_val_X, target, cv=5,scoring=\"accuracy\")\n",
    "    overall_score = scores.mean()\n",
    "    #print(overall_score)\n",
    "    return float(overall_score)"
   ]
  },
  {
   "cell_type": "code",
   "execution_count": 19,
   "metadata": {},
   "outputs": [
    {
     "data": {
      "image/png": "[encoded data removed]",
      "text/plain": [
       "<matplotlib.figure.Figure at 0x1829f47f978>"
      ]
     },
     "metadata": {},
     "output_type": "display_data"
    }
   ],
   "source": [
    "k = [1,3,5,7,9,11,13,15,17,19,21,23,25,35]\n",
    "\n",
    "\n",
    "accuracy = []\n",
    "\n",
    "\n",
    "for val in k:\n",
    "    score = run_prediction(val)\n",
    "    accuracy.append(score)\n",
    "\n",
    "plt.figure(figsize=(10,8))\n",
    "plt.plot(k,accuracy,'.--')\n",
    "plt.title(\"KNN Cross-Validation\")\n",
    "plt.xlabel(\"K-number\")\n",
    "plt.ylabel(\"Accuracy Score\")\n",
    "plt.grid(True)\n",
    "plt.show()"
   ]
  },
  {
   "cell_type": "markdown",
   "metadata": {},
   "source": [
    "### Naive Bayes"
   ]
  },
  {
   "cell_type": "code",
   "execution_count": 20,
   "metadata": {},
   "outputs": [
    {
     "name": "stdout",
     "output_type": "stream",
     "text": [
      "564\n",
      "0.989361702128\n"
     ]
    }
   ],
   "source": [
    "from sklearn.naive_bayes import MultinomialNB\n",
    "model = MultinomialNB()\n",
    "model.fit(train_X, target_train)\n",
    "predicted = model.predict(test_X)\n",
    "print(len(predicted))\n",
    "print(accuracy_score(target_test,predicted))"
   ]
  },
  {
   "cell_type": "code",
   "execution_count": 21,
   "metadata": {},
   "outputs": [
    {
     "name": "stdout",
     "output_type": "stream",
     "text": [
      "0.968735902962\n"
     ]
    }
   ],
   "source": [
    "cross_val_X = vectorizer.fit_transform(data)\n",
    "\n",
    "scores = cross_val_score(model, cross_val_X, target, cv=5,scoring=\"accuracy\")\n",
    "overall_score = scores.mean()\n",
    "print(overall_score)"
   ]
  },
  {
   "cell_type": "markdown",
   "metadata": {},
   "source": [
    "### Conclusion\n",
    "Both the KNN and Naive Bayes method do a very good job (>95% success in almost all cases) at classifying the articles. For the values trialled the k = 5 and k = 15 returned the most accurate results. \n",
    "\n",
    "The Naive Bayes performed better than the KNN model even in the cross validation. In this type of system it seems to be a much better predictor."
   ]
  }
 ],
 "metadata": {
  "kernelspec": {
   "display_name": "Python 3",
   "language": "python",
   "name": "python3"
  },
  "language_info": {
   "codemirror_mode": {
    "name": "ipython",
    "version": 3
   },
   "file_extension": ".py",
   "mimetype": "text/x-python",
   "name": "python",
   "nbconvert_exporter": "python",
   "pygments_lexer": "ipython3",
   "version": "3.6.3"
  }
 },
 "nbformat": 4,
 "nbformat_minor": 2
}
