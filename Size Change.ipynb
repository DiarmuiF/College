{
 "cells": [
  {
   "cell_type": "code",
   "execution_count": 1,
   "metadata": {
    "collapsed": false
   },
   "outputs": [
    {
     "name": "stderr",
     "output_type": "stream",
     "text": [
      "C:\\Program Files\\Anaconda3\\lib\\site-packages\\ipykernel\\__main__.py:20: RuntimeWarning: overflow encountered in short_scalars\n"
     ]
    },
    {
     "name": "stdout",
     "output_type": "stream",
     "text": [
      "[[  6.75   7.    -5.75 ...,   9.     9.     9.25]\n",
      " [  9.25   8.75   9.75 ...,   9.5    8.75   9.5 ]\n",
      " [  9.     8.5    9.   ...,  10.25   9.5    9.25]\n",
      " ..., \n",
      " [ 10.5   11.25  10.   ...,   8.     8.5    8.25]\n",
      " [ 11.75  11.5    9.5  ...,   8.     8.     7.75]\n",
      " [ 10.5    9.75  10.   ...,   8.     8.75   7.25]]\n"
     ]
    }
   ],
   "source": [
    "# Make 2048 IAC images into 1024 Watcher\n",
    "# Take average value of four pixels and make into one\n",
    "import glob\n",
    "\n",
    "\n",
    "def size_down(file):\n",
    "\n",
    "    import astropy.io.fits as pf\n",
    "    import numpy as np\n",
    "\n",
    "    O = pf.open(file)\n",
    "    D = O[0].data\n",
    "    H = O[0].header\n",
    "\n",
    "    s = (1024,1024)\n",
    "    D_new = np.zeros(s)\n",
    "\n",
    "    for i in range(0,2048,2):\n",
    "        for j in range(0,2048,2):\n",
    "            pix_ave = (D[i,j]+D[i,j+1]+D[i+1,j]+D[i+1,j+1])/4\n",
    "            D_new[int(i/2),int(j/2)] = pix_ave\n",
    "\n",
    "\n",
    "    print(D_new)\n",
    "    hdu = pf.PrimaryHDU(D_new,H)\n",
    "    hdu.writeto(\"test1024.fits\")\n",
    "    \n",
    "im_loc = glob.glob(\"C:/Users/dirmu/Documents/fieldtrip/AllSpeed_45P/red_O170320_0060.fits\")\n",
    "size_down(im_loc[0])"
   ]
  }
 ],
 "metadata": {
  "kernelspec": {
   "display_name": "Python [default]",
   "language": "python",
   "name": "python3"
  },
  "language_info": {
   "codemirror_mode": {
    "name": "ipython",
    "version": 3
   },
   "file_extension": ".py",
   "mimetype": "text/x-python",
   "name": "python",
   "nbconvert_exporter": "python",
   "pygments_lexer": "ipython3",
   "version": "3.5.2"
  }
 },
 "nbformat": 4,
 "nbformat_minor": 1
}
