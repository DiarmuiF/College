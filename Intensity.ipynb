{
 "cells": [
  {
   "cell_type": "code",
   "execution_count": 1,
   "metadata": {
    "collapsed": false
   },
   "outputs": [
    {
     "name": "stdout",
     "output_type": "stream",
     "text": [
      "Flux in R = 1.248966289181021e-28\n",
      "Flux in I = 1.2093170624136243e-28\n"
     ]
    }
   ],
   "source": [
    "# m = 0\n",
    "IV = 3640e-26\n",
    "IR = 3080e-26\n",
    "II = 2550e-26\n",
    "\n",
    "def Inten(mag,filte):\n",
    "    if filte == \"V\":\n",
    "        return (3640e-26)*(100**(-mag/5))\n",
    "    if filte == \"R\":\n",
    "        return (3080e-26)*(100**(-mag/5))\n",
    "    if filte == \"I\":\n",
    "        return (2550e-26)*(100**(-mag/5))\n",
    "    \n",
    "FR = Inten(13.48,\"R\")\n",
    "FI = Inten(13.31,\"I\")\n",
    "\n",
    "print(\"Flux in R =\",FR)\n",
    "print(\"Flux in I =\",FI)"
   ]
  },
  {
   "cell_type": "code",
   "execution_count": 13,
   "metadata": {
    "collapsed": false
   },
   "outputs": [
    {
     "data": {
      "image/png": "[encoded data removed]",
      "text/plain": [
       "<matplotlib.figure.Figure at 0x24214848940>"
      ]
     },
     "metadata": {},
     "output_type": "display_data"
    }
   ],
   "source": [
    "import numpy as np\n",
    "import matplotlib.pyplot as plt\n",
    "%matplotlib inline\n",
    "\n",
    "# Counts\n",
    "# From aperture script\n",
    "# star = [(1129.549,334.95595)]\n",
    "ref1 = 3141792.18672\n",
    "flux_ref1 = 2.4352310943546587e-28\n",
    "\n",
    "# star = [(534.47599,1733.5369)]\n",
    "ref2 = 736054.494883\n",
    "flux_ref2 = 1.0245665676647969e-28\n",
    "\n",
    "# star = [(521.64721,529.50005)]\n",
    "ref3 = 1632928.82658\n",
    "flux_ref3 = 1.952271347623705e-28\n",
    "\n",
    "# star = [(969.89814,730.85272)]\n",
    "ref4 = 1024250.52865\n",
    "flux_ref4 = 1.2093170624136243e-28\n",
    "\n",
    "# Instrumental magnitude\n",
    "def instm(f):\n",
    "    return -2.5*(np.log10(f))\n",
    "\n",
    "counts = [ref1,ref2,ref3,ref4]\n",
    "flux = [flux_ref1,flux_ref2,flux_ref3,flux_ref4]\n",
    "# Actual mag\n",
    "m = [12.55,13.49,12.79,13.31]\n",
    "\n",
    "plt.plot(flux,counts,'o')\n",
    "plt.show()"
   ]
  },
  {
   "cell_type": "code",
   "execution_count": 3,
   "metadata": {
    "collapsed": false
   },
   "outputs": [
    {
     "name": "stdout",
     "output_type": "stream",
     "text": [
      "Instrumental magnitude ref1 = -16.2429436383\n",
      "Instrumental magnitude ref2 = -14.6672749229\n",
      "Instrumental magnitude ref2 = -15.5324181396\n",
      "-28.7929436383\n",
      "-28.1572749229\n",
      "-28.3224181396\n"
     ]
    }
   ],
   "source": [
    "# Instrumental magnitude\n",
    "import numpy as np\n",
    "\n",
    "def instm(f):\n",
    "    return -2.5*(np.log10(f))\n",
    "\n",
    "print(\"Instrumental magnitude ref1 =\",instm(ref1))\n",
    "print(\"Instrumental magnitude ref2 =\",instm(ref2))\n",
    "print(\"Instrumental magnitude ref2 =\",instm(ref3))\n",
    "\n",
    "# Actual magnitude\n",
    "m_ref1 = 12.55\n",
    "m_ref2 = 13.49\n",
    "m_ref3 = 12.79\n",
    "\n",
    "print(instm(ref1) - m_ref1)\n",
    "print(instm(ref2) - m_ref2)\n",
    "print(instm(ref3) - m_ref3)"
   ]
  },
  {
   "cell_type": "code",
   "execution_count": 14,
   "metadata": {
    "collapsed": false
   },
   "outputs": [
    {
     "name": "stdout",
     "output_type": "stream",
     "text": [
      "-28.4021630482\n"
     ]
    }
   ],
   "source": [
    "dif_vals = []\n",
    "\n",
    "for i in range(len(counts)):\n",
    "    dif = instm(counts[i]) - m[i]\n",
    "    dif_vals.append(dif)\n",
    "    \n",
    "avg = np.mean(dif_vals)\n",
    "print(avg)"
   ]
  },
  {
   "cell_type": "code",
   "execution_count": 15,
   "metadata": {
    "collapsed": false
   },
   "outputs": [
    {
     "name": "stdout",
     "output_type": "stream",
     "text": [
      "14.9341506345\n"
     ]
    }
   ],
   "source": [
    "# Comet magnitude\n",
    "counts_c = 243896.16158\n",
    "\n",
    "Inst_c = instm(counts_c)\n",
    "\n",
    "mag_c = Inst_c - avg\n",
    "print(mag_c)"
   ]
  }
 ],
 "metadata": {
  "anaconda-cloud": {},
  "kernelspec": {
   "display_name": "Python [default]",
   "language": "python",
   "name": "python3"
  },
  "language_info": {
   "codemirror_mode": {
    "name": "ipython",
    "version": 3
   },
   "file_extension": ".py",
   "mimetype": "text/x-python",
   "name": "python",
   "nbconvert_exporter": "python",
   "pygments_lexer": "ipython3",
   "version": "3.5.2"
  }
 },
 "nbformat": 4,
 "nbformat_minor": 1
}
